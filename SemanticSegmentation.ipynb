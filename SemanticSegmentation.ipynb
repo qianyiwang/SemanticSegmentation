{
 "cells": [
  {
   "cell_type": "markdown",
   "metadata": {},
   "source": [
    "## check keras backend to see if GPU is running"
   ]
  },
  {
   "cell_type": "code",
   "execution_count": 3,
   "metadata": {},
   "outputs": [
    {
     "name": "stderr",
     "output_type": "stream",
     "text": [
      "Using TensorFlow backend.\n"
     ]
    },
    {
     "data": {
      "text/plain": [
       "['/job:localhost/replica:0/task:0/device:GPU:0']"
      ]
     },
     "execution_count": 3,
     "metadata": {},
     "output_type": "execute_result"
    }
   ],
   "source": [
    "import keras\n",
    "keras.backend.tensorflow_backend._get_available_gpus()"
   ]
  },
  {
   "cell_type": "markdown",
   "metadata": {},
   "source": [
    "## data pre-process\n",
    "### data visulization"
   ]
  },
  {
   "cell_type": "code",
   "execution_count": 65,
   "metadata": {},
   "outputs": [
    {
     "name": "stdout",
     "output_type": "stream",
     "text": [
      "Number of Classes in this label image:14,image hight:375,image width:1242\n"
     ]
    },
    {
     "data": {
      "image/png": "[encoded data removed]",
      "text/plain": [
       "<Figure size 432x288 with 2 Axes>"
      ]
     },
     "metadata": {
      "needs_background": "light"
     },
     "output_type": "display_data"
    }
   ],
   "source": [
    "import cv2\n",
    "import matplotlib.pyplot as plt\n",
    "import os\n",
    "\n",
    "training_image_path = 'data_semantics/training/image_2'\n",
    "training_label_path = 'data_semantics/training/semantic_rgb'\n",
    "trainingFileNameList = os.listdir(training_image_path)\n",
    "# img_training = mpimg.imread(os.path.join(training_image_path,trainingFileNameList[0]))\n",
    "img_training = cv2.imread(os.path.join(training_image_path,trainingFileNameList[0]))\n",
    "labelingFileNameList = os.listdir(training_label_path)\n",
    "img_labeling = cv2.imread(os.path.join(training_label_path,labelingFileNameList[0]))\n",
    "# Plotting\n",
    "f, (ax1, ax2) = plt.subplots(1, 2)\n",
    "ax1.set_title('training BGR')\n",
    "ax1.imshow(img_training)\n",
    "\n",
    "ax2.set_title('labeling')\n",
    "ax2.imshow(img_labeling)\n",
    "\n",
    "rows, cols, chanels = img_labeling.shape\n",
    "\n",
    "n_class = len(np.unique(np.reshape(img_labeling,(-1,3)),axis=0))\n",
    "print('Number of Classes in this label image:{},image hight:{},image width:{}'.format(n_class, rows, cols))\n"
   ]
  },
  {
   "cell_type": "markdown",
   "metadata": {},
   "source": [
    "### data prepare"
   ]
  },
  {
   "cell_type": "code",
   "execution_count": 60,
   "metadata": {},
   "outputs": [
    {
     "name": "stderr",
     "output_type": "stream",
     "text": [
      "100%|████████████████████████████████████████████████████████████████████████████████| 200/200 [00:02<00:00, 74.10it/s]\n",
      "100%|███████████████████████████████████████████████████████████████████████████████| 200/200 [00:01<00:00, 122.73it/s]\n"
     ]
    }
   ],
   "source": [
    "from tqdm import tqdm\n",
    "trainingImgs = []\n",
    "labelImgs = []\n",
    "n_classes = 35\n",
    "for file in tqdm(trainingFileNameList):\n",
    "    path = os.path.join(training_image_path, file)\n",
    "    img = mpimg.imread(path)\n",
    "    trainingImgs.append(img)\n",
    "    \n",
    "for file in tqdm(labelingFileNameList):\n",
    "    path = os.path.join(training_label_path, file)\n",
    "    img = mpimg.imread(path)\n",
    "    labelImgs.append(img)\n",
    "    \n",
    "assert len(trainingImgs) == len(labelImgs), 'training set and labeling set should be same size.'"
   ]
  },
  {
   "cell_type": "markdown",
   "metadata": {},
   "source": [
    "## Import Keras and Tensorflow to develop deep learning FCN models"
   ]
  },
  {
   "cell_type": "code",
   "execution_count": 62,
   "metadata": {},
   "outputs": [],
   "source": [
    "# location of VGG weights\n",
    "VGG_Weights_path = \"vgg16_weights_tf_dim_ordering_tf_kernels_notop.h5\""
   ]
  },
  {
   "cell_type": "code",
   "execution_count": 63,
   "metadata": {},
   "outputs": [
    {
     "ename": "AssertionError",
     "evalue": "",
     "output_type": "error",
     "traceback": [
      "\u001b[1;31m---------------------------------------------------------------------------\u001b[0m",
      "\u001b[1;31mAssertionError\u001b[0m                            Traceback (most recent call last)",
      "\u001b[1;32m<ipython-input-63-ae3f5942c72e>\u001b[0m in \u001b[0;36m<module>\u001b[1;34m()\u001b[0m\n\u001b[0;32m     80\u001b[0m model = FCN8(nClasses = n_classes,  \n\u001b[0;32m     81\u001b[0m              \u001b[0minput_height\u001b[0m \u001b[1;33m=\u001b[0m \u001b[0mrows\u001b[0m\u001b[1;33m,\u001b[0m\u001b[1;33m\u001b[0m\u001b[0m\n\u001b[1;32m---> 82\u001b[1;33m              input_width  = cols)\n\u001b[0m\u001b[0;32m     83\u001b[0m \u001b[0mmodel\u001b[0m\u001b[1;33m.\u001b[0m\u001b[0msummary\u001b[0m\u001b[1;33m(\u001b[0m\u001b[1;33m)\u001b[0m\u001b[1;33m\u001b[0m\u001b[0m\n",
      "\u001b[1;32m<ipython-input-63-ae3f5942c72e>\u001b[0m in \u001b[0;36mFCN8\u001b[1;34m(nClasses, input_height, input_width)\u001b[0m\n\u001b[0;32m      2\u001b[0m     \u001b[1;31m## input_height and width must be devisible by 32 because maxpooling with filter size = (2,2) is operated 5 times,\u001b[0m\u001b[1;33m\u001b[0m\u001b[1;33m\u001b[0m\u001b[0m\n\u001b[0;32m      3\u001b[0m     \u001b[1;31m## which makes the input_height and width 2^5 = 32 times smaller\u001b[0m\u001b[1;33m\u001b[0m\u001b[1;33m\u001b[0m\u001b[0m\n\u001b[1;32m----> 4\u001b[1;33m     \u001b[1;32massert\u001b[0m \u001b[0minput_height\u001b[0m\u001b[1;33m%\u001b[0m\u001b[1;36m32\u001b[0m \u001b[1;33m==\u001b[0m \u001b[1;36m0\u001b[0m\u001b[1;33m\u001b[0m\u001b[0m\n\u001b[0m\u001b[0;32m      5\u001b[0m     \u001b[1;32massert\u001b[0m \u001b[0minput_width\u001b[0m\u001b[1;33m%\u001b[0m\u001b[1;36m32\u001b[0m \u001b[1;33m==\u001b[0m \u001b[1;36m0\u001b[0m\u001b[1;33m\u001b[0m\u001b[0m\n\u001b[0;32m      6\u001b[0m     \u001b[0mIMAGE_ORDERING\u001b[0m \u001b[1;33m=\u001b[0m  \u001b[1;34m\"channels_last\"\u001b[0m\u001b[1;33m\u001b[0m\u001b[0m\n",
      "\u001b[1;31mAssertionError\u001b[0m: "
     ]
    }
   ],
   "source": [
    "def FCN8( nClasses, input_height=224, input_width=224):\n",
    "    ## input_height and width must be devisible by 32 because maxpooling with filter size = (2,2) is operated 5 times,\n",
    "    ## which makes the input_height and width 2^5 = 32 times smaller\n",
    "    assert input_height%32 == 0\n",
    "    assert input_width%32 == 0\n",
    "    IMAGE_ORDERING =  \"channels_last\" \n",
    "\n",
    "    img_input = Input(shape=(input_height,input_width, 3)) ## Assume 224,224,3\n",
    "    \n",
    "    ## Block 1\n",
    "    x = Conv2D(64, (3, 3), activation='relu', padding='same', name='block1_conv1', data_format=IMAGE_ORDERING )(img_input)\n",
    "    x = Conv2D(64, (3, 3), activation='relu', padding='same', name='block1_conv2', data_format=IMAGE_ORDERING )(x)\n",
    "    x = MaxPooling2D((2, 2), strides=(2, 2), name='block1_pool', data_format=IMAGE_ORDERING )(x)\n",
    "    f1 = x\n",
    "    \n",
    "    # Block 2\n",
    "    x = Conv2D(128, (3, 3), activation='relu', padding='same', name='block2_conv1', data_format=IMAGE_ORDERING )(x)\n",
    "    x = Conv2D(128, (3, 3), activation='relu', padding='same', name='block2_conv2', data_format=IMAGE_ORDERING )(x)\n",
    "    x = MaxPooling2D((2, 2), strides=(2, 2), name='block2_pool', data_format=IMAGE_ORDERING )(x)\n",
    "    f2 = x\n",
    "\n",
    "    # Block 3\n",
    "    x = Conv2D(256, (3, 3), activation='relu', padding='same', name='block3_conv1', data_format=IMAGE_ORDERING )(x)\n",
    "    x = Conv2D(256, (3, 3), activation='relu', padding='same', name='block3_conv2', data_format=IMAGE_ORDERING )(x)\n",
    "    x = Conv2D(256, (3, 3), activation='relu', padding='same', name='block3_conv3', data_format=IMAGE_ORDERING )(x)\n",
    "    x = MaxPooling2D((2, 2), strides=(2, 2), name='block3_pool', data_format=IMAGE_ORDERING )(x)\n",
    "    pool3 = x\n",
    "\n",
    "    # Block 4\n",
    "    x = Conv2D(512, (3, 3), activation='relu', padding='same', name='block4_conv1', data_format=IMAGE_ORDERING )(x)\n",
    "    x = Conv2D(512, (3, 3), activation='relu', padding='same', name='block4_conv2', data_format=IMAGE_ORDERING )(x)\n",
    "    x = Conv2D(512, (3, 3), activation='relu', padding='same', name='block4_conv3', data_format=IMAGE_ORDERING )(x)\n",
    "    pool4 = MaxPooling2D((2, 2), strides=(2, 2), name='block4_pool', data_format=IMAGE_ORDERING )(x)## (None, 14, 14, 512) \n",
    "\n",
    "    # Block 5\n",
    "    x = Conv2D(512, (3, 3), activation='relu', padding='same', name='block5_conv1', data_format=IMAGE_ORDERING )(pool4)\n",
    "    x = Conv2D(512, (3, 3), activation='relu', padding='same', name='block5_conv2', data_format=IMAGE_ORDERING )(x)\n",
    "    x = Conv2D(512, (3, 3), activation='relu', padding='same', name='block5_conv3', data_format=IMAGE_ORDERING )(x)\n",
    "    pool5 = MaxPooling2D((2, 2), strides=(2, 2), name='block5_pool', data_format=IMAGE_ORDERING )(x)## (None, 7, 7, 512)\n",
    "\n",
    "    #x = Flatten(name='flatten')(x)\n",
    "    #x = Dense(4096, activation='relu', name='fc1')(x)\n",
    "    # <--> o = ( Conv2D( 4096 , ( 7 , 7 ) , activation='relu' , padding='same', data_format=IMAGE_ORDERING))(o)\n",
    "    # assuming that the input_height = input_width = 224 as in VGG data\n",
    "    \n",
    "    #x = Dense(4096, activation='relu', name='fc2')(x)\n",
    "    # <--> o = ( Conv2D( 4096 , ( 1 , 1 ) , activation='relu' , padding='same', data_format=IMAGE_ORDERING))(o)   \n",
    "    # assuming that the input_height = input_width = 224 as in VGG data\n",
    "    \n",
    "    #x = Dense(1000 , activation='softmax', name='predictions')(x)\n",
    "    # <--> o = ( Conv2D( nClasses ,  ( 1 , 1 ) ,kernel_initializer='he_normal' , data_format=IMAGE_ORDERING))(o)\n",
    "    # assuming that the input_height = input_width = 224 as in VGG data\n",
    "    \n",
    "    \n",
    "    vgg  = Model(  img_input , pool5  )\n",
    "    vgg.load_weights(VGG_Weights_path) ## loading VGG weights for the encoder parts of FCN8\n",
    "    \n",
    "    n = 4096\n",
    "    o = ( Conv2D( n , ( 7 , 7 ) , activation='relu' , padding='same', name=\"conv6\", data_format=IMAGE_ORDERING))(pool5)\n",
    "    conv7 = ( Conv2D( n , ( 1 , 1 ) , activation='relu' , padding='same', name=\"conv7\", data_format=IMAGE_ORDERING))(o)\n",
    "    \n",
    "    \n",
    "    ## 4 times upsamping for pool4 layer\n",
    "    conv7_4 = Conv2DTranspose( nClasses , kernel_size=(4,4) ,  strides=(4,4) , use_bias=False, data_format=IMAGE_ORDERING )(conv7)\n",
    "    ## (None, 224, 224, 10)\n",
    "    ## 2 times upsampling for pool411\n",
    "    pool411 = ( Conv2D( nClasses , ( 1 , 1 ) , activation='relu' , padding='same', name=\"pool4_11\", data_format=IMAGE_ORDERING))(pool4)\n",
    "    pool411_2 = (Conv2DTranspose( nClasses , kernel_size=(2,2) ,  strides=(2,2) , use_bias=False, data_format=IMAGE_ORDERING ))(pool411)\n",
    "    \n",
    "    pool311 = ( Conv2D( nClasses , ( 1 , 1 ) , activation='relu' , padding='same', name=\"pool3_11\", data_format=IMAGE_ORDERING))(pool3)\n",
    "        \n",
    "    o = Add(name=\"add\")([pool411_2, pool311, conv7_4 ])\n",
    "    o = Conv2DTranspose( nClasses , kernel_size=(8,8) ,  strides=(8,8) , use_bias=False, data_format=IMAGE_ORDERING )(o)\n",
    "    o = (Activation('softmax'))(o)\n",
    "    \n",
    "    model = Model(img_input, o)\n",
    "\n",
    "    return model\n",
    "\n",
    "model = FCN8(nClasses = n_classes,  \n",
    "             input_height = rows, \n",
    "             input_width  = cols)\n",
    "model.summary()"
   ]
  }
 ],
 "metadata": {
  "kernelspec": {
   "display_name": "Python 3",
   "language": "python",
   "name": "python3"
  },
  "language_info": {
   "codemirror_mode": {
    "name": "ipython",
    "version": 3
   },
   "file_extension": ".py",
   "mimetype": "text/x-python",
   "name": "python",
   "nbconvert_exporter": "python",
   "pygments_lexer": "ipython3",
   "version": "3.5.6"
  }
 },
 "nbformat": 4,
 "nbformat_minor": 2
}
